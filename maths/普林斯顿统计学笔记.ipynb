{
    "cells": [
        {
            "cell_type": "markdown",
            "source": [
                "# Course introductions"
            ],
            "metadata": {}
        },
        {
            "cell_type": "markdown",
            "source": [
                "# 1. Experimental research"
            ],
            "metadata": {}
        },
        {
            "cell_type": "markdown",
            "source": [
                "## Polio Vaccine\n",
                "Randomized Controlled trails"
            ],
            "metadata": {}
        },
        {
            "cell_type": "markdown",
            "source": [
                "## Memory Training\n",
                "Potential confounds"
            ],
            "metadata": {}
        },
        {
            "cell_type": "markdown",
            "source": [
                "# Summary\n",
                "The major benefit of randomized experiments is they allow for strong claims about causality\n",
                "Predict stuff; prevent bad stuff; promote good stuff"
            ],
            "metadata": {}
        },
        {
            "cell_type": "markdown",
            "source": [
                "Strong causal claims require:(1) true independent variables;(2) random and representative samples;(3) No confounds(impossible, but we try our best)\n"
            ],
            "metadata": {}
        },
        {
            "cell_type": "markdown",
            "source": [
                "# 2. correlational research"
            ],
            "metadata": {}
        },
        {
            "cell_type": "markdown",
            "source": [
                "test"
            ],
            "metadata": {}
        }
    ],
    "metadata": {
        "orig_nbformat": 4,
        "language_info": {
            "name": "python",
            "version": "3.8.10",
            "mimetype": "text/x-python",
            "codemirror_mode": {
                "name": "ipython",
                "version": 3
            },
            "pygments_lexer": "ipython3",
            "nbconvert_exporter": "python",
            "file_extension": ".py"
        },
        "kernelspec": {
            "name": "python3",
            "display_name": "Python 3.8.10 64-bit ('base': conda)"
        },
        "interpreter": {
            "hash": "948d73eb6dfda2e804d788ca8e9f193cc8a7762f6fd3fe59d9c3fe882d54f9f4"
        }
    },
    "nbformat": 4,
    "nbformat_minor": 2
}