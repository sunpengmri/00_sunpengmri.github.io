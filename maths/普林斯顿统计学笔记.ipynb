{
    "cells": [
        {
            "cell_type": "markdown",
            "source": [
                "# Course introductions"
            ],
            "metadata": {}
        },
        {
            "cell_type": "markdown",
            "source": [
                "# 1. Experimental research"
            ],
            "metadata": {}
        },
        {
            "cell_type": "markdown",
            "source": [
                "## Polio Vaccine\r\n",
                "Randomized Controlled trails"
            ],
            "metadata": {}
        },
        {
            "cell_type": "markdown",
            "source": [
                "## Memory Training\n",
                "Potential confounds"
            ],
            "metadata": {}
        },
        {
            "cell_type": "markdown",
            "source": [
                "# Summary\n",
                "The major benefit of randomized experiments is they allow for strong claims about causality\n",
                "Predict stuff; prevent bad stuff; promote good stuff"
            ],
            "metadata": {}
        },
        {
            "cell_type": "markdown",
            "source": [
                "Strong causal claims require:(1) true independent variables;(2) random and representative samples;(3) No confounds(impossible, but we try our best)\n"
            ],
            "metadata": {}
        },
        {
            "cell_type": "markdown",
            "source": [
                "# 2. correlational research"
            ],
            "metadata": {}
        },
        {
            "cell_type": "markdown",
            "source": [
                "test"
            ],
            "metadata": {}
        },
        {
            "cell_type": "markdown",
            "source": [
                "# 3. variables"
            ],
            "metadata": {}
        },
        {
            "cell_type": "markdown",
            "source": [
                "four kinds of variables:"
            ],
            "metadata": {}
        },
        {
            "cell_type": "markdown",
            "source": [
                "Nominal variables: 分类变量， can only allow us to do same or not"
            ],
            "metadata": {}
        },
        {
            "cell_type": "markdown",
            "source": [
                "Ordinal variables:顺序变量, CAN do greater or less?"
            ],
            "metadata": {}
        },
        {
            "cell_type": "markdown",
            "source": [
                "Interval variables：比如经纬度, "
            ],
            "metadata": {}
        },
        {
            "cell_type": "markdown",
            "source": [
                "Ratio variables: like interval variables, but have a true zero\r\n"
            ],
            "metadata": {}
        },
        {
            "cell_type": "markdown",
            "source": [
                "4. Distributions"
            ],
            "metadata": {}
        }
    ],
    "metadata": {
        "orig_nbformat": 4,
        "language_info": {
            "name": "R",
            "version": "3.8.10",
            "mimetype": "text/x-python",
            "codemirror_mode": {
                "name": "ipython",
                "version": 3
            },
            "pygments_lexer": "ipython3",
            "nbconvert_exporter": "python",
            "file_extension": ".py"
        },
        "kernelspec": {
            "name": "python3810jvsc74a57bd0948d73eb6dfda2e804d788ca8e9f193cc8a7762f6fd3fe59d9c3fe882d54f9f4",
            "display_name": "R",
            "language": "R"
        },
        "interpreter": {
            "hash": "948d73eb6dfda2e804d788ca8e9f193cc8a7762f6fd3fe59d9c3fe882d54f9f4"
        }
    },
    "nbformat": 4,
    "nbformat_minor": 2
}