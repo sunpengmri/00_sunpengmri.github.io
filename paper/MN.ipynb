{
    "cells": [
        {
            "cell_type": "markdown",
            "source": [
                "# cancer "
            ],
            "metadata": {}
        },
        {
            "cell_type": "markdown",
            "source": [
                "## papers from Kevin M. Brindle"
            ],
            "metadata": {}
        },
        {
            "cell_type": "markdown",
            "source": [
                "### reviews"
            ],
            "metadata": {}
        },
        {
            "cell_type": "markdown",
            "source": [
                "1. 2019, Cell metabolisms, Emerging Technologies to Image Tissue Metabolism, https://doi.org/10.1016/j.cmet.2018.09.004\n",
                "keywords:\n",
                "    \n",
                "\n"
            ],
            "metadata": {}
        },
        {
            "cell_type": "markdown",
            "source": [],
            "metadata": {}
        }
    ],
    "metadata": {
        "orig_nbformat": 4,
        "language_info": {
            "name": "python",
            "version": "3.8.5"
        },
        "kernelspec": {
            "name": "python3",
            "display_name": "Python 3.8.5 64-bit ('base': conda)"
        },
        "interpreter": {
            "hash": "0d4b4bc698a2c3ba9ec0cb4100c1e38924fd6a115ce385cc270da12fd6212a24"
        }
    },
    "nbformat": 4,
    "nbformat_minor": 2
}