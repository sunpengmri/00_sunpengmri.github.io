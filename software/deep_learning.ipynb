Windows: 
# install in anaconda (base) : pytorch keras tensorflow R
    ## 创建环境: conda create -n DL python=3.8 r=4.1 -c conda-forge
    ## 安装pytorch: conda install pytorch torchvision torchaudio cudatoolkit=11.1  -c pytorch -c conda-forge
        test: in python, import torch
    ## 安装tensorflow & keras: pip install --upgrade tensorflow-gpu
        test: in python, import tensorflow as tf ,  tf.test.if_gpu_available()
    ## 配置kaggle： https://www.kaggle.com/，可以下载各类数据集
        ## 使用google账户登录 sunpengchemwhu@gmail.com（需要翻墙）
        ## Kaggle注册账户没有验证码问题解决及数据集下载，请参考（https://zhuanlan.zhihu.com/p/109957010）

#测试CUDA and cuDNN
    ## cuda： 
        import tensorflow as tf
        tf.config.list_physical_devices('GPU')
    ## cudnn： 
        from tensorflow.keras import layers
        x = tf.random.normal([4, 32, 32, 3])
        layer = layers.Conv2D(16, kernel_size=3)
        out = layer(x)


# jypyter lab 


