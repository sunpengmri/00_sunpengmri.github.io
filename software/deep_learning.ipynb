Windows: 
# install in anaconda (base) : pytorch keras tensorflow R
## 创建环境 conda create -n DL python=3.8 r=4.1 -c conda-forge
## 安装pytorch conda install pytorch torchvision torchaudio cudatoolkit=11.1  -c pytorch -c conda-forge